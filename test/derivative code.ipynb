{
 "cells": [
  {
   "cell_type": "code",
   "execution_count": 7,
   "metadata": {},
   "outputs": [],
   "source": [
    "import pandas as pd"
   ]
  },
  {
   "cell_type": "code",
   "execution_count": 33,
   "metadata": {},
   "outputs": [],
   "source": [
    "prev_adcValue = -1\n",
    "curr_adcValue = -1\n",
    "slope = 0.0\n",
    "slope_threshold = 1250\n",
    "peak_flag = 1\n",
    "dropFLG = 0\n",
    "time_base = 0.1\n",
    "time_count = 0"
   ]
  },
  {
   "cell_type": "code",
   "execution_count": 34,
   "metadata": {},
   "outputs": [],
   "source": [
    "data = pd.read_table(\"./testData\")\n",
    "data_len = len(data)"
   ]
  },
  {
   "cell_type": "code",
   "execution_count": 35,
   "metadata": {},
   "outputs": [],
   "source": [
    "def calc_slope(a, b):\n",
    "    return (b-a) / time_base"
   ]
  },
  {
   "cell_type": "code",
   "execution_count": 36,
   "metadata": {},
   "outputs": [],
   "source": [
    "def derivative_filter(prev, curr):\n",
    "    global peak_flag, dropFLG, slope\n",
    "    if (prev != -1):\n",
    "        slope = calc_slope(prev, curr)\n",
    "#         print(slope)\n",
    "        if (slope < slope_threshold):\n",
    "            peak_flag = 1\n",
    "\n",
    "        elif (peak_flag & (slope > slope_threshold)):\n",
    "            dropFLG = 1\n",
    "            peak_flag = 0\n",
    "        \n",
    "    prev = curr\n",
    "    return prev, curr\n",
    "# print(data.iat[0, 0])"
   ]
  },
  {
   "cell_type": "code",
   "execution_count": 37,
   "metadata": {
    "scrolled": false
   },
   "outputs": [
    {
     "name": "stdout",
     "output_type": "stream",
     "text": [
      "Drop Detected with slope 1440.0\n",
      "This is the nth time cycle  15\n",
      "There has been 1 drops\n",
      "Drop Detected with slope 1420.0\n",
      "This is the nth time cycle  41\n",
      "There has been 2 drops\n",
      "Drop Detected with slope 1360.0\n",
      "This is the nth time cycle  91\n",
      "There has been 3 drops\n",
      "Drop Detected with slope 1360.0\n",
      "This is the nth time cycle  100\n",
      "There has been 4 drops\n",
      "Drop Detected with slope 2340.0\n",
      "This is the nth time cycle  106\n",
      "There has been 5 drops\n",
      "Drop Detected with slope 1540.0\n",
      "This is the nth time cycle  116\n",
      "There has been 6 drops\n",
      "Drop Detected with slope 4100.0\n",
      "This is the nth time cycle  129\n",
      "There has been 7 drops\n",
      "Drop Detected with slope 1400.0\n",
      "This is the nth time cycle  142\n",
      "There has been 8 drops\n",
      "Drop Detected with slope 1450.0\n",
      "This is the nth time cycle  144\n",
      "There has been 9 drops\n",
      "Drop Detected with slope 1710.0\n",
      "This is the nth time cycle  148\n",
      "There has been 10 drops\n",
      "Drop Detected with slope 3770.0\n",
      "This is the nth time cycle  152\n",
      "There has been 11 drops\n",
      "Drop Detected with slope 1370.0\n",
      "This is the nth time cycle  156\n",
      "There has been 12 drops\n",
      "Drop Detected with slope 1560.0\n",
      "This is the nth time cycle  161\n",
      "There has been 13 drops\n",
      "Drop Detected with slope 1310.0\n",
      "This is the nth time cycle  216\n",
      "There has been 14 drops\n",
      "Drop Detected with slope 3640.0\n",
      "This is the nth time cycle  219\n",
      "There has been 15 drops\n"
     ]
    }
   ],
   "source": [
    "drops_total = 0\n",
    "\n",
    "for i in range(0, data_len):\n",
    "    curr_adcValue = data.iat[i, 0]\n",
    "    prev_adcValue, curr_adcValue = derivative_filter(prev_adcValue, curr_adcValue)\n",
    "    if (dropFLG == 1):\n",
    "        print(\"Drop Detected with slope \" + str(slope))\n",
    "        dropFLG = 0\n",
    "        print(\"This is the nth time cycle  \" + str(time_count))\n",
    "        drops_total += 1\n",
    "        print(\"There has been \" + str(drops_total) + \" drops\")\n",
    "#     print(\"the slope is \" + str(slope))\n",
    "#     print(curr_adcValue)\n",
    "    time_count = time_count + 1"
   ]
  },
  {
   "cell_type": "code",
   "execution_count": null,
   "metadata": {},
   "outputs": [],
   "source": []
  },
  {
   "cell_type": "code",
   "execution_count": null,
   "metadata": {},
   "outputs": [],
   "source": []
  }
 ],
 "metadata": {
  "kernelspec": {
   "display_name": "Python 3",
   "language": "python",
   "name": "python3"
  },
  "language_info": {
   "codemirror_mode": {
    "name": "ipython",
    "version": 3
   },
   "file_extension": ".py",
   "mimetype": "text/x-python",
   "name": "python",
   "nbconvert_exporter": "python",
   "pygments_lexer": "ipython3",
   "version": "3.8.3"
  }
 },
 "nbformat": 4,
 "nbformat_minor": 4
}
