{
 "cells": [
  {
   "cell_type": "code",
   "execution_count": 90,
   "metadata": {},
   "outputs": [],
   "source": [
    "import pandas as pd"
   ]
  },
  {
   "cell_type": "code",
   "execution_count": 91,
   "metadata": {},
   "outputs": [],
   "source": [
    "prev_adcValue = -1\n",
    "curr_adcValue = -1\n",
    "slope = 0.0\n",
    "slope_threshold = 8000.0\n",
    "peak_flag = 1\n",
    "dropFLG = 0\n",
    "time_base = 0.1\n",
    "time_count = 0"
   ]
  },
  {
   "cell_type": "code",
   "execution_count": 92,
   "metadata": {},
   "outputs": [],
   "source": [
    "data = pd.read_table(\"./testData\")\n",
    "data_len = len(data)"
   ]
  },
  {
   "cell_type": "code",
   "execution_count": 93,
   "metadata": {},
   "outputs": [],
   "source": [
    "def calc_slope(a, b):\n",
    "    return (b-a) / time_base"
   ]
  },
  {
   "cell_type": "code",
   "execution_count": 94,
   "metadata": {},
   "outputs": [],
   "source": [
    "def derivative_filter(prev, curr):\n",
    "    global peak_flag, dropFLG, slope\n",
    "    if (prev != -1):\n",
    "        slope = calc_slope(prev, curr)\n",
    "#         print(slope)\n",
    "        if (slope < slope_threshold):\n",
    "            peak_flag = 1\n",
    "\n",
    "        elif (peak_flag & (slope > slope_threshold)):\n",
    "            dropFLG = 1\n",
    "            peak_flag = 0\n",
    "        \n",
    "    prev = curr\n",
    "    return prev, curr\n",
    "# print(data.iat[0, 0])"
   ]
  },
  {
   "cell_type": "code",
   "execution_count": 95,
   "metadata": {
    "scrolled": false
   },
   "outputs": [
    {
     "name": "stdout",
     "output_type": "stream",
     "text": [
      "Drop Detected with slope 12360.0\n",
      "This is the nth time cycle  41\n",
      "Drop Detected with slope 16760.0\n",
      "This is the nth time cycle  59\n",
      "Drop Detected with slope 15210.0\n",
      "This is the nth time cycle  89\n",
      "Drop Detected with slope 12250.0\n",
      "This is the nth time cycle  95\n",
      "Drop Detected with slope 11600.0\n",
      "This is the nth time cycle  101\n",
      "Drop Detected with slope 15390.0\n",
      "This is the nth time cycle  148\n",
      "Drop Detected with slope 13920.0\n",
      "This is the nth time cycle  177\n",
      "Drop Detected with slope 14490.0\n",
      "This is the nth time cycle  183\n",
      "Drop Detected with slope 15320.0\n",
      "This is the nth time cycle  200\n",
      "Drop Detected with slope 12590.0\n",
      "This is the nth time cycle  246\n"
     ]
    }
   ],
   "source": [
    "for i in range(0, data_len):\n",
    "    curr_adcValue = data.iat[i, 0]\n",
    "    prev_adcValue, curr_adcValue = derivative_filter(prev_adcValue, curr_adcValue)\n",
    "    if (dropFLG == 1):\n",
    "        print(\"Drop Detected with slope \" + str(slope))\n",
    "        dropFLG = 0\n",
    "        print(\"This is the nth time cycle  \" + str(time_count))\n",
    "\n",
    "#     print(\"the slope is \" + str(slope))\n",
    "#     print(curr_adcValue)\n",
    "    time_count = time_count + 1"
   ]
  },
  {
   "cell_type": "code",
   "execution_count": null,
   "metadata": {},
   "outputs": [],
   "source": []
  },
  {
   "cell_type": "code",
   "execution_count": null,
   "metadata": {},
   "outputs": [],
   "source": []
  }
 ],
 "metadata": {
  "kernelspec": {
   "display_name": "Python 3",
   "language": "python",
   "name": "python3"
  },
  "language_info": {
   "codemirror_mode": {
    "name": "ipython",
    "version": 3
   },
   "file_extension": ".py",
   "mimetype": "text/x-python",
   "name": "python",
   "nbconvert_exporter": "python",
   "pygments_lexer": "ipython3",
   "version": "3.8.3"
  }
 },
 "nbformat": 4,
 "nbformat_minor": 4
}
